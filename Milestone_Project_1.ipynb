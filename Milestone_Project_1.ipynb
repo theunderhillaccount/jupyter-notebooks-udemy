{
 "cells": [
  {
   "cell_type": "code",
   "execution_count": 9,
   "metadata": {
    "collapsed": true
   },
   "outputs": [],
   "source": [
    "from IPython.display import clear_output\n",
    "\n",
    "board = [\" \",\" \",\" \",\" \",\" \",\" \",\" \",\" \",\" \",\" \"]\n",
    "\n",
    "\n",
    "def ttt_board():    \n",
    "    \n",
    "    print '    |    |'\n",
    "    print ' ' + board[7] + '  |' + ' ' +board[8] + '  |' ' ' + board[9]\n",
    "    print '    |    |'\n",
    "    print '--------------'\n",
    "    print '    |    |'\n",
    "    print ' ' + board[4] + '  |' + ' ' +board[5] + '  |' ' ' + board[6]\n",
    "    print '    |    |'\n",
    "    print '--------------'\n",
    "    print '    |    |'\n",
    "    print ' ' + board[1] + '  |' + ' ' +board[2] + '  |' ' ' + board[3]\n",
    "    print '    |    |'\n",
    "\n",
    "\n",
    "\n",
    "\n",
    "def marker(xo):\n",
    "    # Takes user input for placement of marker. Converts input to integer,\n",
    "    # and calls a checker function to ensure input is valid.\n",
    "    \n",
    "    xo_marker = raw_input(\"Type the board location for your move: \")\n",
    "    convert_marker = int(xo_marker)\n",
    "    marker_check(convert_marker, xo)    \n",
    "    \n",
    "    print board    \n",
    "\n",
    "    \n",
    "    \n",
    "def marker_check(test, marker_xo_passed):\n",
    "    # Checks to see if input is valid and passes valid input to list.\n",
    "    # Clears previous board and redraws current board.\n",
    "    \n",
    "    if 1 <= test <=9 and board[test] == \" \":\n",
    "        board[test] = marker_xo_passed\n",
    "        print \"here\"\n",
    "        clear_output()\n",
    "        ttt_board()\n",
    "    elif test > 9 or test <1:\n",
    "        print \"Type a number between 1 and 9, please.\"\n",
    "        marker(marker_xo_passed)    \n",
    "    elif board[test] != \" \":\n",
    "        print \"Enter the number for an unoccupied square.\"\n",
    "        marker(marker_xo_passed)\n",
    "    else:\n",
    "        print \"what the fuck, now!\"\n",
    "        \n",
    "def whose_move(x_o):\n",
    "    \n",
    "    if x_o == \"X\":\n",
    "        x_o = \"O\"\n",
    "    else:\n",
    "        x_o = \"X\"\n",
    "        \n",
    "    return x_o"
   ]
  },
  {
   "cell_type": "code",
   "execution_count": 12,
   "metadata": {
    "scrolled": true
   },
   "outputs": [
    {
     "name": "stdout",
     "output_type": "stream",
     "text": [
      "    |    |\n",
      " O  |    |  \n",
      "    |    |\n",
      "--------------\n",
      "    |    |\n",
      "    |    |  \n",
      "    |    |\n",
      "--------------\n",
      "    |    |\n",
      " X  | X  |  \n",
      "    |    |\n",
      "[' ', 'X', 'X', ' ', ' ', ' ', ' ', 'O', ' ', ' ']\n",
      "[' ', 'X', 'X', ' ', ' ', ' ', ' ', 'O', ' ', ' ']\n"
     ]
    },
    {
     "data": {
      "text/plain": [
       "'X'"
      ]
     },
     "execution_count": 12,
     "metadata": {},
     "output_type": "execute_result"
    }
   ],
   "source": [
    "ttt_board()\n",
    "marker(whose_move(\"X\"))\n",
    "whose_move(\"O\")"
   ]
  },
  {
   "cell_type": "code",
   "execution_count": null,
   "metadata": {
    "collapsed": true
   },
   "outputs": [],
   "source": []
  }
 ],
 "metadata": {
  "kernelspec": {
   "display_name": "Python 2",
   "language": "python",
   "name": "python2"
  },
  "language_info": {
   "codemirror_mode": {
    "name": "ipython",
    "version": 2
   },
   "file_extension": ".py",
   "mimetype": "text/x-python",
   "name": "python",
   "nbconvert_exporter": "python",
   "pygments_lexer": "ipython2",
   "version": "2.7.13"
  }
 },
 "nbformat": 4,
 "nbformat_minor": 2
}
