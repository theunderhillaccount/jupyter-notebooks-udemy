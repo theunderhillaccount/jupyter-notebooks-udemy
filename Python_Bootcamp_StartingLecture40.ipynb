{
 "cells": [
  {
   "cell_type": "code",
   "execution_count": 9,
   "metadata": {
    "collapsed": true
   },
   "outputs": [],
   "source": [
    "def my_addition_func(arg1,arg2):\n",
    "    \"\"\"\n",
    "    Here is my docstring!\n",
    "    \"\"\"\n",
    "    print arg1+arg2"
   ]
  },
  {
   "cell_type": "code",
   "execution_count": 10,
   "metadata": {},
   "outputs": [
    {
     "name": "stdout",
     "output_type": "stream",
     "text": [
      "3\n"
     ]
    }
   ],
   "source": [
    "my_addition_func(1,2)"
   ]
  },
  {
   "cell_type": "code",
   "execution_count": 16,
   "metadata": {
    "collapsed": true
   },
   "outputs": [],
   "source": [
    "def greeting(name):\n",
    "    print \"Hello \"+ name\n",
    "    "
   ]
  },
  {
   "cell_type": "code",
   "execution_count": 17,
   "metadata": {},
   "outputs": [
    {
     "name": "stdout",
     "output_type": "stream",
     "text": [
      "Hello Jose\n"
     ]
    }
   ],
   "source": [
    "greeting('Jose')"
   ]
  },
  {
   "cell_type": "code",
   "execution_count": 18,
   "metadata": {
    "collapsed": true
   },
   "outputs": [],
   "source": [
    "def add_num(num1, num2):\n",
    "    return num1+num2"
   ]
  },
  {
   "cell_type": "code",
   "execution_count": 19,
   "metadata": {
    "collapsed": true
   },
   "outputs": [],
   "source": [
    "x = add_num(2,3)"
   ]
  },
  {
   "cell_type": "code",
   "execution_count": 20,
   "metadata": {},
   "outputs": [
    {
     "data": {
      "text/plain": [
       "5"
      ]
     },
     "execution_count": 20,
     "metadata": {},
     "output_type": "execute_result"
    }
   ],
   "source": [
    "x"
   ]
  },
  {
   "cell_type": "code",
   "execution_count": 44,
   "metadata": {
    "collapsed": true
   },
   "outputs": [],
   "source": [
    "def is_prime(num):\n",
    "    \"\"\"\n",
    "    Checks for prime number\n",
    "    INPUT: A number\n",
    "    OUTPUT: A print statement whether or not the number is prime\n",
    "    \"\"\"\n",
    "    for n in range(2,num):\n",
    "        if num % n == 0:\n",
    "            print 'Not Prime'\n",
    "            break\n",
    "    else:\n",
    "        print 'The number is prime!'"
   ]
  },
  {
   "cell_type": "code",
   "execution_count": 46,
   "metadata": {},
   "outputs": [
    {
     "name": "stdout",
     "output_type": "stream",
     "text": [
      "The number is prime!\n"
     ]
    }
   ],
   "source": [
    "is_prime(11)"
   ]
  },
  {
   "cell_type": "code",
   "execution_count": 47,
   "metadata": {
    "collapsed": true
   },
   "outputs": [],
   "source": [
    "import math\n",
    "\n",
    "def is_prime(num):\n",
    "    '''\n",
    "    Better method of checking for primes. \n",
    "    '''\n",
    "    if num % 2 == 0 and num > 2: \n",
    "        return False\n",
    "    for i in range(3, int(math.sqrt(num)) + 1, 2):\n",
    "        if num % i == 0:\n",
    "            return False\n",
    "    return True"
   ]
  },
  {
   "cell_type": "code",
   "execution_count": 48,
   "metadata": {},
   "outputs": [
    {
     "data": {
      "text/plain": [
       "False"
      ]
     },
     "execution_count": 48,
     "metadata": {},
     "output_type": "execute_result"
    }
   ],
   "source": [
    "is_prime(15)"
   ]
  },
  {
   "cell_type": "code",
   "execution_count": 49,
   "metadata": {
    "collapsed": true
   },
   "outputs": [],
   "source": [
    "# Lambda expressions"
   ]
  },
  {
   "cell_type": "code",
   "execution_count": 50,
   "metadata": {
    "collapsed": true
   },
   "outputs": [],
   "source": [
    "def square(num):\n",
    "    result = num**2\n",
    "    return result"
   ]
  },
  {
   "cell_type": "code",
   "execution_count": 51,
   "metadata": {},
   "outputs": [
    {
     "data": {
      "text/plain": [
       "9"
      ]
     },
     "execution_count": 51,
     "metadata": {},
     "output_type": "execute_result"
    }
   ],
   "source": [
    "square(3)"
   ]
  },
  {
   "cell_type": "code",
   "execution_count": 52,
   "metadata": {
    "collapsed": true
   },
   "outputs": [],
   "source": [
    "def square(num):\n",
    "    return num**2"
   ]
  },
  {
   "cell_type": "code",
   "execution_count": 53,
   "metadata": {},
   "outputs": [
    {
     "data": {
      "text/plain": [
       "256"
      ]
     },
     "execution_count": 53,
     "metadata": {},
     "output_type": "execute_result"
    }
   ],
   "source": [
    "square(16)"
   ]
  },
  {
   "cell_type": "code",
   "execution_count": 54,
   "metadata": {
    "collapsed": true
   },
   "outputs": [],
   "source": [
    "def square(num): return num**2\n"
   ]
  },
  {
   "cell_type": "code",
   "execution_count": 55,
   "metadata": {},
   "outputs": [
    {
     "data": {
      "text/plain": [
       "81"
      ]
     },
     "execution_count": 55,
     "metadata": {},
     "output_type": "execute_result"
    }
   ],
   "source": [
    "square(9)"
   ]
  },
  {
   "cell_type": "code",
   "execution_count": 56,
   "metadata": {},
   "outputs": [
    {
     "data": {
      "text/plain": [
       "<function __main__.<lambda>>"
      ]
     },
     "execution_count": 56,
     "metadata": {},
     "output_type": "execute_result"
    }
   ],
   "source": [
    "lambda num: num**2"
   ]
  },
  {
   "cell_type": "code",
   "execution_count": 58,
   "metadata": {
    "collapsed": true
   },
   "outputs": [],
   "source": [
    "square2 = lambda num: num**2"
   ]
  },
  {
   "cell_type": "code",
   "execution_count": 59,
   "metadata": {},
   "outputs": [
    {
     "data": {
      "text/plain": [
       "100"
      ]
     },
     "execution_count": 59,
     "metadata": {},
     "output_type": "execute_result"
    }
   ],
   "source": [
    "square2(10)"
   ]
  },
  {
   "cell_type": "code",
   "execution_count": 60,
   "metadata": {
    "collapsed": true
   },
   "outputs": [],
   "source": [
    "#Check if a number is even"
   ]
  },
  {
   "cell_type": "code",
   "execution_count": 61,
   "metadata": {
    "collapsed": true
   },
   "outputs": [],
   "source": [
    "even = lambda num: num%2 == 0"
   ]
  },
  {
   "cell_type": "code",
   "execution_count": 62,
   "metadata": {},
   "outputs": [
    {
     "data": {
      "text/plain": [
       "True"
      ]
     },
     "execution_count": 62,
     "metadata": {},
     "output_type": "execute_result"
    }
   ],
   "source": [
    "even(4)"
   ]
  },
  {
   "cell_type": "code",
   "execution_count": 63,
   "metadata": {
    "collapsed": true
   },
   "outputs": [],
   "source": [
    "def even(num):\n",
    "    return num%2 == 0"
   ]
  },
  {
   "cell_type": "code",
   "execution_count": 64,
   "metadata": {},
   "outputs": [
    {
     "data": {
      "text/plain": [
       "True"
      ]
     },
     "execution_count": 64,
     "metadata": {},
     "output_type": "execute_result"
    }
   ],
   "source": [
    "even(10)"
   ]
  },
  {
   "cell_type": "code",
   "execution_count": 65,
   "metadata": {
    "collapsed": true
   },
   "outputs": [],
   "source": [
    "# Grabs the first character of a string"
   ]
  },
  {
   "cell_type": "code",
   "execution_count": 66,
   "metadata": {
    "collapsed": true
   },
   "outputs": [],
   "source": [
    "first = lambda s: s[0]"
   ]
  },
  {
   "cell_type": "code",
   "execution_count": 67,
   "metadata": {},
   "outputs": [
    {
     "data": {
      "text/plain": [
       "'h'"
      ]
     },
     "execution_count": 67,
     "metadata": {},
     "output_type": "execute_result"
    }
   ],
   "source": [
    "first('hello')"
   ]
  },
  {
   "cell_type": "code",
   "execution_count": 68,
   "metadata": {
    "collapsed": true
   },
   "outputs": [],
   "source": [
    "rev = lambda s: s[::-1]"
   ]
  },
  {
   "cell_type": "code",
   "execution_count": 70,
   "metadata": {},
   "outputs": [
    {
     "data": {
      "text/plain": [
       "'kcud ym ,olleH'"
      ]
     },
     "execution_count": 70,
     "metadata": {},
     "output_type": "execute_result"
    }
   ],
   "source": [
    "rev('Hello, my duck')"
   ]
  },
  {
   "cell_type": "code",
   "execution_count": 71,
   "metadata": {
    "collapsed": true
   },
   "outputs": [],
   "source": [
    "def adder(x,y):\n",
    "    return x+y"
   ]
  },
  {
   "cell_type": "code",
   "execution_count": 72,
   "metadata": {},
   "outputs": [
    {
     "data": {
      "text/plain": [
       "22"
      ]
     },
     "execution_count": 72,
     "metadata": {},
     "output_type": "execute_result"
    }
   ],
   "source": [
    "adder(10, 12)"
   ]
  },
  {
   "cell_type": "code",
   "execution_count": 73,
   "metadata": {
    "collapsed": true
   },
   "outputs": [],
   "source": [
    "adder2 = lambda x,y: x+y"
   ]
  },
  {
   "cell_type": "code",
   "execution_count": 74,
   "metadata": {},
   "outputs": [
    {
     "data": {
      "text/plain": [
       "10266"
      ]
     },
     "execution_count": 74,
     "metadata": {},
     "output_type": "execute_result"
    }
   ],
   "source": [
    "adder2(32,10234)"
   ]
  },
  {
   "cell_type": "code",
   "execution_count": 75,
   "metadata": {
    "collapsed": true
   },
   "outputs": [],
   "source": [
    "# Nested Statements and Scope"
   ]
  },
  {
   "cell_type": "code",
   "execution_count": 77,
   "metadata": {},
   "outputs": [
    {
     "name": "stdout",
     "output_type": "stream",
     "text": [
      "25\n",
      "25\n"
     ]
    }
   ],
   "source": [
    "x = 25\n",
    "\n",
    "def printer():\n",
    "    x = 50\n",
    "    return x\n",
    "\n",
    "print x\n",
    "print printer()"
   ]
  },
  {
   "cell_type": "code",
   "execution_count": 80,
   "metadata": {},
   "outputs": [
    {
     "data": {
      "text/plain": [
       "{'In': ['',\n",
       "  u'def name_of_function():\\n    pass',\n",
       "  u'name_of_function()',\n",
       "  u'def name_of_function(arg1,arg2):\\n    \\n    pass',\n",
       "  u'name_of_function()',\n",
       "  u'name_of_function(1,2)',\n",
       "  u'my_addition_func(1,2)',\n",
       "  u'def my_addition_func(arg1,arg2):\\n    print arg1+arg2',\n",
       "  u'my_addition_func(1,2)',\n",
       "  u'def my_addition_func(arg1,arg2):\\n    \"\"\"\\n    Here is my docstring!\\n    \"\"\"\\n    print arg1+arg2',\n",
       "  u'my_addition_func(1,2)',\n",
       "  u\"def say_hello():\\n    print 'hello'\\n    \",\n",
       "  u'say_hello',\n",
       "  u'say_hello()',\n",
       "  u'def say_hello(name):\\n    print \"Hello \"+ name\\n    ',\n",
       "  u'say_hello()',\n",
       "  u'def greeting(name):\\n    print \"Hello \"+ name\\n    ',\n",
       "  u\"greeting('Jose')\",\n",
       "  u'def add_num(num1, num2):\\n    return num1+num2',\n",
       "  u'x = add_num(2,3)',\n",
       "  u'x',\n",
       "  u'def is_prime():\\n    pass',\n",
       "  u'is_prime(2)',\n",
       "  u'def is_prime(num):\\n    pass',\n",
       "  u'is_prime(2)',\n",
       "  u'def is_prime(num):\\n    \"\"\"\"\"\"\\n    pass',\n",
       "  u'def is_prime(num):\\n    \"\"\"\\n    Checks for prime number\\n    INPUT: A number\\n    OUTPUT: A print statement whether or no the number is prime\\n    \"\"\"\\n    pass',\n",
       "  u'is_prime(2)',\n",
       "  u'def is_prime(num):\\n    \"\"\"\\n    Checks for prime number\\n    INPUT: A number\\n    OUTPUT: A print statement whether or not the number is prime\\n    \"\"\"\\n    for n in range(2,num):\\n        if num %n == 0:\\n            print \\'Not Prime\\'\\n            break\\n        else:\\n            print \\'The number is prime!\\'',\n",
       "  u'is_prime(2)',\n",
       "  u'def is_prime(num):\\n    \"\"\"\\n    Checks for prime number\\n    INPUT: A number\\n    OUTPUT: A print statement whether or not the number is prime\\n    \"\"\"\\n    for n in range(2,num):\\n        if num %n == 0:\\n            print \\'Not Prime\\'\\n            break\\n        else:\\n            print \\'The number is prime!\\'',\n",
       "  u'is_prime(2)',\n",
       "  u'def is_prime(num):\\n    \"\"\"\\n    Checks for prime number\\n    INPUT: A number\\n    OUTPUT: A print statement whether or not the number is prime\\n    \"\"\"\\n    for n in range(2,num):\\n        if num % n == 0:\\n            print \\'Not Prime\\'\\n            break\\n        else:\\n            print \\'The number is prime!\\'',\n",
       "  u'is_prime(2)',\n",
       "  u'is_prime(10)',\n",
       "  u'is_prime(1)',\n",
       "  u'is_prime(11)',\n",
       "  u'def is_prime(num):\\n    \"\"\"\\n    Checks for prime number\\n    INPUT: A number\\n    OUTPUT: A print statement whether or not the number is prime\\n    \"\"\"\\n    for n in range(2,num):\\n        if num % n == 0:\\n            print \\'Not Prime\\'\\n            break\\n        else:\\n            print \\'The number is prime!\\'',\n",
       "  u'is_prime(11)',\n",
       "  u'def is_prime(num):\\n    \"\"\"\\n    Checks for prime number\\n    INPUT: A number\\n    OUTPUT: A print statement whether or not the number is prime\\n    \"\"\"\\n    for n in range(2,num):\\n        if num % n == 0:\\n            print \\'Not Prime\\'\\n            break\\n        else:\\n            print \\'The number is prime!\\'',\n",
       "  u'is_prime(11)',\n",
       "  u'is_prime(12)',\n",
       "  u'is_prime(13)',\n",
       "  u'is_prime(12)',\n",
       "  u'def is_prime(num):\\n    \"\"\"\\n    Checks for prime number\\n    INPUT: A number\\n    OUTPUT: A print statement whether or not the number is prime\\n    \"\"\"\\n    for n in range(2,num):\\n        if num % n == 0:\\n            print \\'Not Prime\\'\\n            break\\n    else:\\n        print \\'The number is prime!\\'',\n",
       "  u'is_prime(12)',\n",
       "  u'is_prime(11)',\n",
       "  u\"import math\\n\\ndef is_prime(num):\\n    '''\\n    Better method of checking for primes. \\n    '''\\n    if num % 2 == 0 and num > 2: \\n        return False\\n    for i in range(3, int(math.sqrt(num)) + 1, 2):\\n        if num % i == 0:\\n            return False\\n    return True\",\n",
       "  u'is_prime(15)',\n",
       "  u'# Lambda expressions',\n",
       "  u'def square(num):\\n    result = num**2\\n    return result',\n",
       "  u'square(3)',\n",
       "  u'def square(num):\\n    return num**2',\n",
       "  u'square(16)',\n",
       "  u'def square(num): return num**2',\n",
       "  u'square(9)',\n",
       "  u'lambda num: num**2',\n",
       "  u'square = lambda num: num**2',\n",
       "  u'square2 = lambda num: num**2',\n",
       "  u'square2(10)',\n",
       "  u'#Check if a number is even',\n",
       "  u'even = lambda num: num%2 == 0',\n",
       "  u'even(4)',\n",
       "  u'def even(num):\\n    return num%2 == 0',\n",
       "  u'even(10)',\n",
       "  u'# Grabs the first character of a string',\n",
       "  u'first = lambda s: s[0]',\n",
       "  u\"first('hello')\",\n",
       "  u'rev = lambda s: s[::-1]',\n",
       "  u\"rev('Hello, my love')\",\n",
       "  u\"rev('Hello, my duck')\",\n",
       "  u'def adder(x,y):\\n    return x+y',\n",
       "  u'adder(10, 12)',\n",
       "  u'adder2 = lambda x,y: x+y',\n",
       "  u'adder2(32,10234)',\n",
       "  u'# Nested Statements and Scope',\n",
       "  u'x = 25\\n\\ndef printer():\\n    x = 50\\n    return x\\n\\nprint x\\nprint printer()',\n",
       "  u'x = 25\\n\\ndef printer():\\n    #x = 50\\n    return x\\n\\nprint x\\nprint printer()',\n",
       "  u'globals()',\n",
       "  u'locals()',\n",
       "  u'locals()'],\n",
       " 'Out': {12: <function __main__.say_hello>,\n",
       "  20: 5,\n",
       "  48: False,\n",
       "  51: 9,\n",
       "  53: 256,\n",
       "  55: 81,\n",
       "  56: <function __main__.<lambda>>,\n",
       "  59: 100,\n",
       "  62: True,\n",
       "  64: True,\n",
       "  67: 'h',\n",
       "  69: 'evol ym ,olleH',\n",
       "  70: 'kcud ym ,olleH',\n",
       "  72: 22,\n",
       "  74: 10266,\n",
       "  78: {...},\n",
       "  79: {...}},\n",
       " '_': {...},\n",
       " '_12': <function __main__.say_hello>,\n",
       " '_20': 5,\n",
       " '_48': False,\n",
       " '_51': 9,\n",
       " '_53': 256,\n",
       " '_55': 81,\n",
       " '_56': <function __main__.<lambda>>,\n",
       " '_59': 100,\n",
       " '_62': True,\n",
       " '_64': True,\n",
       " '_67': 'h',\n",
       " '_69': 'evol ym ,olleH',\n",
       " '_70': 'kcud ym ,olleH',\n",
       " '_72': 22,\n",
       " '_74': 10266,\n",
       " '_78': {...},\n",
       " '_79': {...},\n",
       " '__': {...},\n",
       " '___': 10266,\n",
       " '__builtin__': <module '__builtin__' (built-in)>,\n",
       " '__builtins__': <module '__builtin__' (built-in)>,\n",
       " '__doc__': 'Automatically created module for IPython interactive environment',\n",
       " '__name__': '__main__',\n",
       " '__package__': None,\n",
       " '_dh': [u'C:\\\\Users\\\\AJ'],\n",
       " '_i': u'locals()',\n",
       " '_i1': u'def name_of_function():\\n    pass',\n",
       " '_i10': u'my_addition_func(1,2)',\n",
       " '_i11': u\"def say_hello():\\n    print 'hello'\\n    \",\n",
       " '_i12': u'say_hello',\n",
       " '_i13': u'say_hello()',\n",
       " '_i14': u'def say_hello(name):\\n    print \"Hello \"+ name\\n    ',\n",
       " '_i15': u'say_hello()',\n",
       " '_i16': u'def greeting(name):\\n    print \"Hello \"+ name\\n    ',\n",
       " '_i17': u\"greeting('Jose')\",\n",
       " '_i18': u'def add_num(num1, num2):\\n    return num1+num2',\n",
       " '_i19': u'x = add_num(2,3)',\n",
       " '_i2': u'name_of_function()',\n",
       " '_i20': u'x',\n",
       " '_i21': u'def is_prime():\\n    pass',\n",
       " '_i22': u'is_prime(2)',\n",
       " '_i23': u'def is_prime(num):\\n    pass',\n",
       " '_i24': u'is_prime(2)',\n",
       " '_i25': u'def is_prime(num):\\n    \"\"\"\"\"\"\\n    pass',\n",
       " '_i26': u'def is_prime(num):\\n    \"\"\"\\n    Checks for prime number\\n    INPUT: A number\\n    OUTPUT: A print statement whether or no the number is prime\\n    \"\"\"\\n    pass',\n",
       " '_i27': u'is_prime(2)',\n",
       " '_i28': u'def is_prime(num):\\n    \"\"\"\\n    Checks for prime number\\n    INPUT: A number\\n    OUTPUT: A print statement whether or not the number is prime\\n    \"\"\"\\n    for n in range(2,num):\\n        if num %n == 0:\\n            print \\'Not Prime\\'\\n            break\\n        else:\\n            print \\'The number is prime!\\'',\n",
       " '_i29': u'is_prime(2)',\n",
       " '_i3': u'def name_of_function(arg1,arg2):\\n    \\n    pass',\n",
       " '_i30': u'def is_prime(num):\\n    \"\"\"\\n    Checks for prime number\\n    INPUT: A number\\n    OUTPUT: A print statement whether or not the number is prime\\n    \"\"\"\\n    for n in range(2,num):\\n        if num %n == 0:\\n            print \\'Not Prime\\'\\n            break\\n        else:\\n            print \\'The number is prime!\\'',\n",
       " '_i31': u'is_prime(2)',\n",
       " '_i32': u'def is_prime(num):\\n    \"\"\"\\n    Checks for prime number\\n    INPUT: A number\\n    OUTPUT: A print statement whether or not the number is prime\\n    \"\"\"\\n    for n in range(2,num):\\n        if num % n == 0:\\n            print \\'Not Prime\\'\\n            break\\n        else:\\n            print \\'The number is prime!\\'',\n",
       " '_i33': u'is_prime(2)',\n",
       " '_i34': u'is_prime(10)',\n",
       " '_i35': u'is_prime(1)',\n",
       " '_i36': u'is_prime(11)',\n",
       " '_i37': u'def is_prime(num):\\n    \"\"\"\\n    Checks for prime number\\n    INPUT: A number\\n    OUTPUT: A print statement whether or not the number is prime\\n    \"\"\"\\n    for n in range(2,num):\\n        if num % n == 0:\\n            print \\'Not Prime\\'\\n            break\\n        else:\\n            print \\'The number is prime!\\'',\n",
       " '_i38': u'is_prime(11)',\n",
       " '_i39': u'def is_prime(num):\\n    \"\"\"\\n    Checks for prime number\\n    INPUT: A number\\n    OUTPUT: A print statement whether or not the number is prime\\n    \"\"\"\\n    for n in range(2,num):\\n        if num % n == 0:\\n            print \\'Not Prime\\'\\n            break\\n        else:\\n            print \\'The number is prime!\\'',\n",
       " '_i4': u'name_of_function()',\n",
       " '_i40': u'is_prime(11)',\n",
       " '_i41': u'is_prime(12)',\n",
       " '_i42': u'is_prime(13)',\n",
       " '_i43': u'is_prime(12)',\n",
       " '_i44': u'def is_prime(num):\\n    \"\"\"\\n    Checks for prime number\\n    INPUT: A number\\n    OUTPUT: A print statement whether or not the number is prime\\n    \"\"\"\\n    for n in range(2,num):\\n        if num % n == 0:\\n            print \\'Not Prime\\'\\n            break\\n    else:\\n        print \\'The number is prime!\\'',\n",
       " '_i45': u'is_prime(12)',\n",
       " '_i46': u'is_prime(11)',\n",
       " '_i47': u\"import math\\n\\ndef is_prime(num):\\n    '''\\n    Better method of checking for primes. \\n    '''\\n    if num % 2 == 0 and num > 2: \\n        return False\\n    for i in range(3, int(math.sqrt(num)) + 1, 2):\\n        if num % i == 0:\\n            return False\\n    return True\",\n",
       " '_i48': u'is_prime(15)',\n",
       " '_i49': u'# Lambda expressions',\n",
       " '_i5': u'name_of_function(1,2)',\n",
       " '_i50': u'def square(num):\\n    result = num**2\\n    return result',\n",
       " '_i51': u'square(3)',\n",
       " '_i52': u'def square(num):\\n    return num**2',\n",
       " '_i53': u'square(16)',\n",
       " '_i54': u'def square(num): return num**2',\n",
       " '_i55': u'square(9)',\n",
       " '_i56': u'lambda num: num**2',\n",
       " '_i57': u'square = lambda num: num**2',\n",
       " '_i58': u'square2 = lambda num: num**2',\n",
       " '_i59': u'square2(10)',\n",
       " '_i6': u'my_addition_func(1,2)',\n",
       " '_i60': u'#Check if a number is even',\n",
       " '_i61': u'even = lambda num: num%2 == 0',\n",
       " '_i62': u'even(4)',\n",
       " '_i63': u'def even(num):\\n    return num%2 == 0',\n",
       " '_i64': u'even(10)',\n",
       " '_i65': u'# Grabs the first character of a string',\n",
       " '_i66': u'first = lambda s: s[0]',\n",
       " '_i67': u\"first('hello')\",\n",
       " '_i68': u'rev = lambda s: s[::-1]',\n",
       " '_i69': u\"rev('Hello, my love')\",\n",
       " '_i7': u'def my_addition_func(arg1,arg2):\\n    print arg1+arg2',\n",
       " '_i70': u\"rev('Hello, my duck')\",\n",
       " '_i71': u'def adder(x,y):\\n    return x+y',\n",
       " '_i72': u'adder(10, 12)',\n",
       " '_i73': u'adder2 = lambda x,y: x+y',\n",
       " '_i74': u'adder2(32,10234)',\n",
       " '_i75': u'# Nested Statements and Scope',\n",
       " '_i76': u'x = 25\\n\\ndef printer():\\n    x = 50\\n    return x\\n\\nprint x\\nprint printer()',\n",
       " '_i77': u'x = 25\\n\\ndef printer():\\n    #x = 50\\n    return x\\n\\nprint x\\nprint printer()',\n",
       " '_i78': u'globals()',\n",
       " '_i79': u'locals()',\n",
       " '_i8': u'my_addition_func(1,2)',\n",
       " '_i80': u'locals()',\n",
       " '_i9': u'def my_addition_func(arg1,arg2):\\n    \"\"\"\\n    Here is my docstring!\\n    \"\"\"\\n    print arg1+arg2',\n",
       " '_ih': ['',\n",
       "  u'def name_of_function():\\n    pass',\n",
       "  u'name_of_function()',\n",
       "  u'def name_of_function(arg1,arg2):\\n    \\n    pass',\n",
       "  u'name_of_function()',\n",
       "  u'name_of_function(1,2)',\n",
       "  u'my_addition_func(1,2)',\n",
       "  u'def my_addition_func(arg1,arg2):\\n    print arg1+arg2',\n",
       "  u'my_addition_func(1,2)',\n",
       "  u'def my_addition_func(arg1,arg2):\\n    \"\"\"\\n    Here is my docstring!\\n    \"\"\"\\n    print arg1+arg2',\n",
       "  u'my_addition_func(1,2)',\n",
       "  u\"def say_hello():\\n    print 'hello'\\n    \",\n",
       "  u'say_hello',\n",
       "  u'say_hello()',\n",
       "  u'def say_hello(name):\\n    print \"Hello \"+ name\\n    ',\n",
       "  u'say_hello()',\n",
       "  u'def greeting(name):\\n    print \"Hello \"+ name\\n    ',\n",
       "  u\"greeting('Jose')\",\n",
       "  u'def add_num(num1, num2):\\n    return num1+num2',\n",
       "  u'x = add_num(2,3)',\n",
       "  u'x',\n",
       "  u'def is_prime():\\n    pass',\n",
       "  u'is_prime(2)',\n",
       "  u'def is_prime(num):\\n    pass',\n",
       "  u'is_prime(2)',\n",
       "  u'def is_prime(num):\\n    \"\"\"\"\"\"\\n    pass',\n",
       "  u'def is_prime(num):\\n    \"\"\"\\n    Checks for prime number\\n    INPUT: A number\\n    OUTPUT: A print statement whether or no the number is prime\\n    \"\"\"\\n    pass',\n",
       "  u'is_prime(2)',\n",
       "  u'def is_prime(num):\\n    \"\"\"\\n    Checks for prime number\\n    INPUT: A number\\n    OUTPUT: A print statement whether or not the number is prime\\n    \"\"\"\\n    for n in range(2,num):\\n        if num %n == 0:\\n            print \\'Not Prime\\'\\n            break\\n        else:\\n            print \\'The number is prime!\\'',\n",
       "  u'is_prime(2)',\n",
       "  u'def is_prime(num):\\n    \"\"\"\\n    Checks for prime number\\n    INPUT: A number\\n    OUTPUT: A print statement whether or not the number is prime\\n    \"\"\"\\n    for n in range(2,num):\\n        if num %n == 0:\\n            print \\'Not Prime\\'\\n            break\\n        else:\\n            print \\'The number is prime!\\'',\n",
       "  u'is_prime(2)',\n",
       "  u'def is_prime(num):\\n    \"\"\"\\n    Checks for prime number\\n    INPUT: A number\\n    OUTPUT: A print statement whether or not the number is prime\\n    \"\"\"\\n    for n in range(2,num):\\n        if num % n == 0:\\n            print \\'Not Prime\\'\\n            break\\n        else:\\n            print \\'The number is prime!\\'',\n",
       "  u'is_prime(2)',\n",
       "  u'is_prime(10)',\n",
       "  u'is_prime(1)',\n",
       "  u'is_prime(11)',\n",
       "  u'def is_prime(num):\\n    \"\"\"\\n    Checks for prime number\\n    INPUT: A number\\n    OUTPUT: A print statement whether or not the number is prime\\n    \"\"\"\\n    for n in range(2,num):\\n        if num % n == 0:\\n            print \\'Not Prime\\'\\n            break\\n        else:\\n            print \\'The number is prime!\\'',\n",
       "  u'is_prime(11)',\n",
       "  u'def is_prime(num):\\n    \"\"\"\\n    Checks for prime number\\n    INPUT: A number\\n    OUTPUT: A print statement whether or not the number is prime\\n    \"\"\"\\n    for n in range(2,num):\\n        if num % n == 0:\\n            print \\'Not Prime\\'\\n            break\\n        else:\\n            print \\'The number is prime!\\'',\n",
       "  u'is_prime(11)',\n",
       "  u'is_prime(12)',\n",
       "  u'is_prime(13)',\n",
       "  u'is_prime(12)',\n",
       "  u'def is_prime(num):\\n    \"\"\"\\n    Checks for prime number\\n    INPUT: A number\\n    OUTPUT: A print statement whether or not the number is prime\\n    \"\"\"\\n    for n in range(2,num):\\n        if num % n == 0:\\n            print \\'Not Prime\\'\\n            break\\n    else:\\n        print \\'The number is prime!\\'',\n",
       "  u'is_prime(12)',\n",
       "  u'is_prime(11)',\n",
       "  u\"import math\\n\\ndef is_prime(num):\\n    '''\\n    Better method of checking for primes. \\n    '''\\n    if num % 2 == 0 and num > 2: \\n        return False\\n    for i in range(3, int(math.sqrt(num)) + 1, 2):\\n        if num % i == 0:\\n            return False\\n    return True\",\n",
       "  u'is_prime(15)',\n",
       "  u'# Lambda expressions',\n",
       "  u'def square(num):\\n    result = num**2\\n    return result',\n",
       "  u'square(3)',\n",
       "  u'def square(num):\\n    return num**2',\n",
       "  u'square(16)',\n",
       "  u'def square(num): return num**2',\n",
       "  u'square(9)',\n",
       "  u'lambda num: num**2',\n",
       "  u'square = lambda num: num**2',\n",
       "  u'square2 = lambda num: num**2',\n",
       "  u'square2(10)',\n",
       "  u'#Check if a number is even',\n",
       "  u'even = lambda num: num%2 == 0',\n",
       "  u'even(4)',\n",
       "  u'def even(num):\\n    return num%2 == 0',\n",
       "  u'even(10)',\n",
       "  u'# Grabs the first character of a string',\n",
       "  u'first = lambda s: s[0]',\n",
       "  u\"first('hello')\",\n",
       "  u'rev = lambda s: s[::-1]',\n",
       "  u\"rev('Hello, my love')\",\n",
       "  u\"rev('Hello, my duck')\",\n",
       "  u'def adder(x,y):\\n    return x+y',\n",
       "  u'adder(10, 12)',\n",
       "  u'adder2 = lambda x,y: x+y',\n",
       "  u'adder2(32,10234)',\n",
       "  u'# Nested Statements and Scope',\n",
       "  u'x = 25\\n\\ndef printer():\\n    x = 50\\n    return x\\n\\nprint x\\nprint printer()',\n",
       "  u'x = 25\\n\\ndef printer():\\n    #x = 50\\n    return x\\n\\nprint x\\nprint printer()',\n",
       "  u'globals()',\n",
       "  u'locals()',\n",
       "  u'locals()'],\n",
       " '_ii': u'globals()',\n",
       " '_iii': u'x = 25\\n\\ndef printer():\\n    #x = 50\\n    return x\\n\\nprint x\\nprint printer()',\n",
       " '_oh': {12: <function __main__.say_hello>,\n",
       "  20: 5,\n",
       "  48: False,\n",
       "  51: 9,\n",
       "  53: 256,\n",
       "  55: 81,\n",
       "  56: <function __main__.<lambda>>,\n",
       "  59: 100,\n",
       "  62: True,\n",
       "  64: True,\n",
       "  67: 'h',\n",
       "  69: 'evol ym ,olleH',\n",
       "  70: 'kcud ym ,olleH',\n",
       "  72: 22,\n",
       "  74: 10266,\n",
       "  78: {...},\n",
       "  79: {...}},\n",
       " '_sh': <module 'IPython.core.shadowns' from 'C:\\Users\\AJ\\Anaconda3\\envs\\testpy27\\lib\\site-packages\\IPython\\core\\shadowns.pyc'>,\n",
       " 'add_num': <function __main__.add_num>,\n",
       " 'adder': <function __main__.adder>,\n",
       " 'adder2': <function __main__.<lambda>>,\n",
       " 'even': <function __main__.even>,\n",
       " 'exit': <IPython.core.autocall.ZMQExitAutocall at 0x4828080>,\n",
       " 'first': <function __main__.<lambda>>,\n",
       " 'get_ipython': <bound method ZMQInteractiveShell.get_ipython of <ipykernel.zmqshell.ZMQInteractiveShell object at 0x0000000004779E48>>,\n",
       " 'greeting': <function __main__.greeting>,\n",
       " 'is_prime': <function __main__.is_prime>,\n",
       " 'math': <module 'math' (built-in)>,\n",
       " 'my_addition_func': <function __main__.my_addition_func>,\n",
       " 'name_of_function': <function __main__.name_of_function>,\n",
       " 'printer': <function __main__.printer>,\n",
       " 'quit': <IPython.core.autocall.ZMQExitAutocall at 0x4828080>,\n",
       " 'rev': <function __main__.<lambda>>,\n",
       " 'say_hello': <function __main__.say_hello>,\n",
       " 'square': <function __main__.<lambda>>,\n",
       " 'square2': <function __main__.<lambda>>,\n",
       " 'x': 25}"
      ]
     },
     "execution_count": 80,
     "metadata": {},
     "output_type": "execute_result"
    }
   ],
   "source": [
    "locals()"
   ]
  },
  {
   "cell_type": "code",
   "execution_count": 81,
   "metadata": {},
   "outputs": [
    {
     "data": {
      "text/plain": [
       "8"
      ]
     },
     "execution_count": 81,
     "metadata": {},
     "output_type": "execute_result"
    }
   ],
   "source": [
    "2**3"
   ]
  },
  {
   "cell_type": "code",
   "execution_count": 83,
   "metadata": {},
   "outputs": [
    {
     "data": {
      "text/plain": [
       "3.141592653589793"
      ]
     },
     "execution_count": 83,
     "metadata": {},
     "output_type": "execute_result"
    }
   ],
   "source": [
    "import math\n",
    "\n",
    "math.pi"
   ]
  },
  {
   "cell_type": "code",
   "execution_count": null,
   "metadata": {
    "collapsed": true
   },
   "outputs": [],
   "source": []
  }
 ],
 "metadata": {
  "kernelspec": {
   "display_name": "Python 2",
   "language": "python",
   "name": "python2"
  },
  "language_info": {
   "codemirror_mode": {
    "name": "ipython",
    "version": 2
   },
   "file_extension": ".py",
   "mimetype": "text/x-python",
   "name": "python",
   "nbconvert_exporter": "python",
   "pygments_lexer": "ipython2",
   "version": "2.7.13"
  }
 },
 "nbformat": 4,
 "nbformat_minor": 2
}
